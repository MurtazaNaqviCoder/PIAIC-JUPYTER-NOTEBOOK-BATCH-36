{
 "cells": [
  {
   "cell_type": "markdown",
   "id": "0ca89145",
   "metadata": {},
   "source": [
    "# Operation\n",
    "*oprand\n",
    "*operators"
   ]
  },
  {
   "cell_type": "code",
   "execution_count": 2,
   "id": "ffa23cb5",
   "metadata": {},
   "outputs": [
    {
     "name": "stdout",
     "output_type": "stream",
     "text": [
      "7\n"
     ]
    }
   ],
   "source": [
    "print(5 + 2)"
   ]
  },
  {
   "cell_type": "code",
   "execution_count": 3,
   "id": "5c5dc282",
   "metadata": {},
   "outputs": [
    {
     "name": "stdout",
     "output_type": "stream",
     "text": [
      "3\n"
     ]
    }
   ],
   "source": [
    "print(5 - 2)"
   ]
  },
  {
   "cell_type": "code",
   "execution_count": 4,
   "id": "c46ec72e",
   "metadata": {},
   "outputs": [
    {
     "name": "stdout",
     "output_type": "stream",
     "text": [
      "10\n"
     ]
    }
   ],
   "source": [
    "print(5 * 2)"
   ]
  },
  {
   "cell_type": "code",
   "execution_count": 5,
   "id": "0ea858e5",
   "metadata": {},
   "outputs": [
    {
     "name": "stdout",
     "output_type": "stream",
     "text": [
      "2.5\n"
     ]
    }
   ],
   "source": [
    "print(5/2) # float"
   ]
  },
  {
   "cell_type": "code",
   "execution_count": 7,
   "id": "31cdf9ed",
   "metadata": {},
   "outputs": [
    {
     "name": "stdout",
     "output_type": "stream",
     "text": [
      "25\n"
     ]
    }
   ],
   "source": [
    "print(5**2) # power"
   ]
  },
  {
   "cell_type": "code",
   "execution_count": 8,
   "id": "fc1a5d23",
   "metadata": {},
   "outputs": [
    {
     "name": "stdout",
     "output_type": "stream",
     "text": [
      "2\n"
     ]
    }
   ],
   "source": [
    "print(5//2) # floor division"
   ]
  },
  {
   "cell_type": "code",
   "execution_count": 9,
   "id": "076c9cd1",
   "metadata": {},
   "outputs": [
    {
     "name": "stdout",
     "output_type": "stream",
     "text": [
      "3\n"
     ]
    }
   ],
   "source": [
    "print(7//2)"
   ]
  },
  {
   "cell_type": "code",
   "execution_count": 10,
   "id": "240c8df6",
   "metadata": {},
   "outputs": [
    {
     "name": "stdout",
     "output_type": "stream",
     "text": [
      "2\n"
     ]
    }
   ],
   "source": [
    "print(11 % 3) # modulus"
   ]
  },
  {
   "cell_type": "markdown",
   "id": "a8d4303e",
   "metadata": {},
   "source": [
    "# = equal operator\n",
    "assign any value to variable (placeholder)\n",
    "syntax:\n",
    "'''variable_name = value'''\n",
    "value any data type"
   ]
  },
  {
   "cell_type": "code",
   "execution_count": 12,
   "id": "ecb3b7f8",
   "metadata": {},
   "outputs": [
    {
     "name": "stdout",
     "output_type": "stream",
     "text": [
      "PIAIC\n",
      "36/37\n",
      "Muhammad Qasim\n",
      "9 am to 12 pm\n"
     ]
    }
   ],
   "source": [
    "school = \"PIAIC\"\n",
    "batch = \"36/37\"\n",
    "teacher = \"Muhammad Qasim\"\n",
    "timing = \"9 am to 12 pm\"\n",
    "\n",
    "print(id(school))\n",
    "print(id(batch))\n",
    "print(id(teacher))\n",
    "print(id(timing))"
   ]
  },
  {
   "cell_type": "code",
   "execution_count": 13,
   "id": "52eb0cf7",
   "metadata": {},
   "outputs": [
    {
     "name": "stdout",
     "output_type": "stream",
     "text": [
      "Muhammad Qasim\n"
     ]
    }
   ],
   "source": [
    "name = \"Muhammad Qasim\"\n",
    "print(name)"
   ]
  },
  {
   "cell_type": "markdown",
   "id": "1c4a084d",
   "metadata": {},
   "source": [
    "# use some pre defined functions \n",
    "*print()\n",
    "*type()\n",
    "*id()\n",
    "*len()"
   ]
  },
  {
   "cell_type": "code",
   "execution_count": 14,
   "id": "a4d44564",
   "metadata": {},
   "outputs": [
    {
     "name": "stdout",
     "output_type": "stream",
     "text": [
      "<class 'str'>\n",
      "1713308913392\n"
     ]
    }
   ],
   "source": [
    "name = \"Muhammad Qasim\"\n",
    "print(type(name)) # data type\n",
    "print(id(name)) # memory address\n",
    "print(len(name)) # length (count number of characters)\n"
   ]
  },
  {
   "cell_type": "code",
   "execution_count": 15,
   "id": "cd761fe3",
   "metadata": {},
   "outputs": [
    {
     "name": "stdout",
     "output_type": "stream",
     "text": [
      "1713309140656\n",
      "1713308856944\n"
     ]
    }
   ],
   "source": [
    "name = \"Muhammad Qasim\"\n",
    "teacher_name = \"Muhammad Qasim\"\n",
    "\n",
    "print(id(name))\n",
    "print(id(teacher_name))"
   ]
  },
  {
   "cell_type": "code",
   "execution_count": 16,
   "id": "2e525a02",
   "metadata": {},
   "outputs": [
    {
     "name": "stdout",
     "output_type": "stream",
     "text": [
      "1713329484464\n",
      "1713329484464\n"
     ]
    }
   ],
   "source": [
    "a = \"Pakistan\"\n",
    "b = \"Pakistan\"\n",
    "\n",
    "print(id(a))\n",
    "print(id(b))"
   ]
  },
  {
   "cell_type": "markdown",
   "id": "9934abba",
   "metadata": {},
   "source": [
    "# How to assign string variables in a value"
   ]
  },
  {
   "cell_type": "code",
   "execution_count": 38,
   "id": "9e79fffa",
   "metadata": {},
   "outputs": [
    {
     "name": "stdout",
     "output_type": "stream",
     "text": [
      "Muhammad Qasim <class 'str'>\n"
     ]
    }
   ],
   "source": [
    "name = \"Muhammad Qasim\" # 1\n",
    "print(name,type(name))"
   ]
  },
  {
   "cell_type": "code",
   "execution_count": 39,
   "id": "1364a112",
   "metadata": {},
   "outputs": [
    {
     "name": "stdout",
     "output_type": "stream",
     "text": [
      "Muhammad Qasim <class 'str'>\n"
     ]
    }
   ],
   "source": [
    "name = 'Muhammad Qasim' # 2\n",
    "print(name,type(name))"
   ]
  },
  {
   "cell_type": "code",
   "execution_count": 1,
   "id": "a0082a7d",
   "metadata": {},
   "outputs": [
    {
     "name": "stdout",
     "output_type": "stream",
     "text": [
      "name: \t\tMurtaza\n",
      "father Name:\tMohammad Ali\n",
      "Batch: \t\t 36-37\n"
     ]
    }
   ],
   "source": [
    "# We have to define special characters (/n /t)\n",
    "\n",
    "data = 'name: \\t\\tMurtaza\\nfather Name:\\tMohammad Ali\\nBatch: \\t\\t 36-37'\n",
    "print(data)"
   ]
  },
  {
   "cell_type": "code",
   "execution_count": 41,
   "id": "5aad3f2f",
   "metadata": {},
   "outputs": [
    {
     "name": "stdout",
     "output_type": "stream",
     "text": [
      "name:\t\tQasim\n",
      "father's Name:\tMuhammad Aslam\n",
      "Batch:\t\t 36-37\n"
     ]
    }
   ],
   "source": [
    "# if you are using sing quote in start and end \n",
    "# or you want to use in middle of the text the you place (\\) \n",
    "# before middle single quote\n",
    "data = 'name:\\t\\tQasim\\nfather\\'s Name:\\tMuhammad Aslam\\nBatch:\\t\\t 36-37'\n",
    "print(data)"
   ]
  },
  {
   "cell_type": "code",
   "execution_count": 42,
   "id": "1de5807c",
   "metadata": {},
   "outputs": [
    {
     "name": "stdout",
     "output_type": "stream",
     "text": [
      "PIAIC \" ss \" Pakistan zinda bad\n"
     ]
    }
   ],
   "source": [
    "data = \"PIAIC \\\" ss \\\" Pakistan zinda bad\"\n",
    "print(data)"
   ]
  },
  {
   "cell_type": "code",
   "execution_count": 43,
   "id": "7f4fd0cd",
   "metadata": {},
   "outputs": [
    {
     "name": "stdout",
     "output_type": "stream",
     "text": [
      "Muhammad \"Q\"asim <class 'str'>\n"
     ]
    }
   ],
   "source": [
    "name = \"Muhammad \\\"Q\\\"asim\" # 1\n",
    "print(name,type(name))"
   ]
  },
  {
   "cell_type": "code",
   "execution_count": 44,
   "id": "086243d0",
   "metadata": {},
   "outputs": [
    {
     "data": {
      "text/plain": [
       "\"\\nName:             Muhammad Qasim\\nFather's Name:    Muhammad Aslam\\nBatch:            36-37\\n\""
      ]
     },
     "execution_count": 44,
     "metadata": {},
     "output_type": "execute_result"
    }
   ],
   "source": [
    "# triple singl quote or triple double quote > define multi line string\n",
    "data = \"\"\"\n",
    "Name:             Muhammad Qasim\n",
    "Father's Name:    Muhammad Aslam\n",
    "Batch:            36-37\n",
    "\"\"\"\n",
    "data # if you write in last line = out put raw text"
   ]
  },
  {
   "cell_type": "code",
   "execution_count": 45,
   "id": "d74bff7b",
   "metadata": {},
   "outputs": [
    {
     "name": "stdout",
     "output_type": "stream",
     "text": [
      "\n",
      "Name:             Muhammad Qasim\n",
      "Father's Name:    Muhammad Aslam\n",
      "Batch:            36-37\n",
      "\n"
     ]
    }
   ],
   "source": [
    "data = \"\"\"\n",
    "Name:             Muhammad Qasim\n",
    "Father's Name:    Muhammad Aslam\n",
    "Batch:            36-37\n",
    "\"\"\"\n",
    "print(data)"
   ]
  },
  {
   "cell_type": "code",
   "execution_count": 46,
   "id": "4493fb0e",
   "metadata": {},
   "outputs": [
    {
     "data": {
      "text/plain": [
       "'Muhammad \"Q\"asim'"
      ]
     },
     "execution_count": 46,
     "metadata": {},
     "output_type": "execute_result"
    }
   ],
   "source": [
    "name"
   ]
  },
  {
   "cell_type": "code",
   "execution_count": 47,
   "id": "2d338f4d",
   "metadata": {},
   "outputs": [
    {
     "name": "stdout",
     "output_type": "stream",
     "text": [
      "\n",
      "Name:             Muhammad Qasim\n",
      "Father's Name:    Muhammad Aslam\n",
      "Batch:            36-37\n",
      "\n"
     ]
    }
   ],
   "source": [
    "print(data)"
   ]
  },
  {
   "cell_type": "code",
   "execution_count": 48,
   "id": "1955032f",
   "metadata": {},
   "outputs": [],
   "source": [
    "# https://www.w3schools.com/python/gloss_python_variable_names.asp#:~:text=Rules%20for%20Python%20variables%3A,0%2D9%2C%20and%20_%20)"
   ]
  },
  {
   "cell_type": "markdown",
   "id": "e6c825b7",
   "metadata": {},
   "source": [
    "# How to apply varialbe name rules"
   ]
  },
  {
   "cell_type": "code",
   "execution_count": 50,
   "id": "364f2f6d",
   "metadata": {},
   "outputs": [
    {
     "data": {
      "text/plain": [
       "'qasim'"
      ]
     },
     "execution_count": 50,
     "metadata": {},
     "output_type": "execute_result"
    }
   ],
   "source": [
    "_1name = \"qasim\"\n",
    "_1name"
   ]
  },
  {
   "cell_type": "code",
   "execution_count": 51,
   "id": "d3a71996",
   "metadata": {},
   "outputs": [
    {
     "data": {
      "text/plain": [
       "'Muhammad Aslam'"
      ]
     },
     "execution_count": 51,
     "metadata": {},
     "output_type": "execute_result"
    }
   ],
   "source": [
    "father_name1 = \"Muhammad Aslam\"\n",
    "father_name1"
   ]
  },
  {
   "cell_type": "code",
   "execution_count": 52,
   "id": "7a342026",
   "metadata": {},
   "outputs": [
    {
     "data": {
      "text/plain": [
       "'Muhammad Aslam'"
      ]
     },
     "execution_count": 52,
     "metadata": {},
     "output_type": "execute_result"
    }
   ],
   "source": [
    "father_Name1 = \"Muhammad Aslam\"\n",
    "father_Name1"
   ]
  },
  {
   "cell_type": "code",
   "execution_count": 53,
   "id": "a96484f8",
   "metadata": {},
   "outputs": [
    {
     "data": {
      "text/plain": [
       "'Muhammad Aslam'"
      ]
     },
     "execution_count": 53,
     "metadata": {},
     "output_type": "execute_result"
    }
   ],
   "source": [
    "father_Name1 = \"Muhammad Aslam\"\n",
    "father_Name1"
   ]
  },
  {
   "cell_type": "code",
   "execution_count": 55,
   "id": "7314c5f4",
   "metadata": {},
   "outputs": [
    {
     "data": {
      "text/plain": [
       "'c'"
      ]
     },
     "execution_count": 55,
     "metadata": {},
     "output_type": "execute_result"
    }
   ],
   "source": [
    "\"a\"\n",
    "'b'\n",
    "'c'# jupyter cell always return last line"
   ]
  },
  {
   "cell_type": "code",
   "execution_count": 56,
   "id": "c30bf765",
   "metadata": {},
   "outputs": [
    {
     "name": "stdout",
     "output_type": "stream",
     "text": [
      "c\n"
     ]
    }
   ],
   "source": [
    "\"a\"\n",
    "'b'\n",
    "print('c')# jupyter cell always return last line"
   ]
  },
  {
   "cell_type": "markdown",
   "id": "1e627f7f",
   "metadata": {},
   "source": [
    "# Concatination (combine two or more variables and values) | Text formattion"
   ]
  },
  {
   "cell_type": "code",
   "execution_count": 4,
   "id": "b2023240",
   "metadata": {},
   "outputs": [
    {
     "name": "stdout",
     "output_type": "stream",
     "text": [
      "Murtaza Naqvi Mohammad Ali Software Engineer Artificail Intelligence\n"
     ]
    }
   ],
   "source": [
    "name = \"Murtaza Naqvi\"\n",
    "father_name = \"Mohammad Ali\"\n",
    "education = \"Software Engineer\"\n",
    "designation = \"Artificail Intelligence\"\n",
    "\n",
    "print(name, father_name, education, designation)"
   ]
  },
  {
   "cell_type": "code",
   "execution_count": 5,
   "id": "07af31d0",
   "metadata": {},
   "outputs": [
    {
     "name": "stdout",
     "output_type": "stream",
     "text": [
      "Murtaza Naqvi\n",
      "Mohammad Ali\n",
      "Software Engineer\n",
      "Artificail Intelligence\n"
     ]
    }
   ],
   "source": [
    "name = \"Murtaza Naqvi\"\n",
    "father_name = \"Mohammad Ali\"\n",
    "education = \"Software Engineer\"\n",
    "designation = \"Artificail Intelligence\"\n",
    "\n",
    "print(name, father_name, education, designation, sep=\"\\n\")"
   ]
  },
  {
   "cell_type": "code",
   "execution_count": 6,
   "id": "8c66e64a",
   "metadata": {},
   "outputs": [
    {
     "name": "stdout",
     "output_type": "stream",
     "text": [
      "a\n",
      "b\n"
     ]
    }
   ],
   "source": [
    "print('a')\n",
    "print('b')"
   ]
  },
  {
   "cell_type": "code",
   "execution_count": 61,
   "id": "3a0295cf",
   "metadata": {},
   "outputs": [
    {
     "name": "stdout",
     "output_type": "stream",
     "text": [
      "PIAIC Teacher Card\n",
      " Name: Murtaza Naqvi\n",
      " Father's Name: Mohammad Ali\n",
      " Education: Software Engineer\n",
      " Designation: Artificail Intelligence\n",
      " Height: 5.1\n"
     ]
    }
   ],
   "source": [
    "name = \"Murtaza Naqvi\"\n",
    "father_name = \"Mohammad Ali\"\n",
    "education = \"Software Engineer\"\n",
    "designation = \"Artificail Intelligence\"\n",
    "height = 5.1\n",
    "\n",
    "# + operator on string join two string variable\n",
    "result = \"PIAIC Teacher Card\\n Name: \" + name + \"\\n Father's Name: \" + father_name + \"\\n Education: \" + education + \"\\n Designation: \" + designation + \"\\n Height: \" + str(height)\n",
    "\n",
    "\n",
    "print(result)"
   ]
  },
  {
   "cell_type": "code",
   "execution_count": 20,
   "id": "7a0d6dfb",
   "metadata": {},
   "outputs": [
    {
     "name": "stdout",
     "output_type": "stream",
     "text": [
      "\n",
      "Name = Murtaza Naqvi\n",
      "Father's Name = Mohammad Ali\n",
      "Education = Software Engineer\n",
      "Designation = Artificail Intelligence\n",
      "Height = 5.1\n",
      "\n"
     ]
    }
   ],
   "source": [
    "\n",
    "name = \"Murtaza Naqvi\"\n",
    "father_name = \"Mohammad Ali\"\n",
    "education = \"Software Engineer\"\n",
    "designation = \"Artificail Intelligence\"\n",
    "height = 5.1 #\n",
    "\n",
    "data = \"\"\"\n",
    "Name = {}\n",
    "Father's Name = {}\n",
    "Education = {}\n",
    "Designation = {}\n",
    "Height = {}\n",
    "\"\"\".format(name, father_name, education, designation, height) \n",
    "print(data)"
   ]
  },
  {
   "cell_type": "code",
   "execution_count": 22,
   "id": "4e79b2af",
   "metadata": {},
   "outputs": [
    {
     "name": "stdout",
     "output_type": "stream",
     "text": [
      "\n",
      "Name = Murtaza Naqvi\n",
      "Father's Name = Mohammad Ali\n",
      "Education = Software Engineer\n",
      "Designation = Artificail Intelligence\n",
      "Height = 5.1\n",
      "\n"
     ]
    }
   ],
   "source": [
    "\n",
    "name = \"Murtaza Naqvi\"\n",
    "father_name = \"Mohammad Ali\"\n",
    "education = \"Software Engineer\"\n",
    "designation = \"Artificail Intelligence\"\n",
    "height = 5.1 #\n",
    "\n",
    "data = \"\"\"\n",
    "Name = {4}\n",
    "Father's Name = {0}\n",
    "Education = {2}\n",
    "Designation = {3}\n",
    "Height = {1}\n",
    "\"\"\".format(father_name,height,education,designation,name) # now we don't need to take cast\n",
    "#                0        1       2          3       4\n",
    "print(data)"
   ]
  },
  {
   "cell_type": "code",
   "execution_count": 23,
   "id": "991a31f1",
   "metadata": {},
   "outputs": [
    {
     "name": "stdout",
     "output_type": "stream",
     "text": [
      "\n",
      "Name = Murtaza Naqvi\n",
      "Father's Name = Mohammad Ali\n",
      "Education = Software Engineer\n",
      "Designation = Artificail Intelligence\n",
      "Height = 5.1\n",
      "\n"
     ]
    }
   ],
   "source": [
    "\n",
    "name = \"Murtaza Naqvi\"\n",
    "father_name = \"Mohammad Ali\"\n",
    "education = \"Software Engineer\"\n",
    "designation = \"Artificail Intelligence\"\n",
    "height = 5.1 #\n",
    "\n",
    "data = f\"\"\"\n",
    "Name = {name}\n",
    "Father's Name = {father_name}\n",
    "Education = {education}\n",
    "Designation = {designation}\n",
    "Height = {height}\n",
    "\"\"\"\n",
    "print(data)"
   ]
  },
  {
   "cell_type": "code",
   "execution_count": 62,
   "id": "6bee291b",
   "metadata": {},
   "outputs": [
    {
     "data": {
      "text/plain": [
       "'Murtaza Naqvi'"
      ]
     },
     "execution_count": 62,
     "metadata": {},
     "output_type": "execute_result"
    }
   ],
   "source": [
    "name"
   ]
  },
  {
   "cell_type": "code",
   "execution_count": 64,
   "id": "4447e31a",
   "metadata": {},
   "outputs": [
    {
     "data": {
      "text/plain": [
       "100"
      ]
     },
     "execution_count": 64,
     "metadata": {},
     "output_type": "execute_result"
    }
   ],
   "source": [
    "int('100')"
   ]
  },
  {
   "cell_type": "code",
   "execution_count": 65,
   "id": "1bdc48bd",
   "metadata": {},
   "outputs": [
    {
     "data": {
      "text/plain": [
       "'Pakistan1000'"
      ]
     },
     "execution_count": 65,
     "metadata": {},
     "output_type": "execute_result"
    }
   ],
   "source": [
    "a = \"Pakistan\"\n",
    "b = 1000\n",
    "\n",
    "a + str(b)"
   ]
  },
  {
   "cell_type": "code",
   "execution_count": 66,
   "id": "f7c50fe4",
   "metadata": {},
   "outputs": [
    {
     "name": "stdout",
     "output_type": "stream",
     "text": [
      "Enter any value: 1\n",
      "1\n"
     ]
    }
   ],
   "source": [
    "abc = input(\"Enter any value: \") #always return text value\n",
    "print(abc)"
   ]
  },
  {
   "cell_type": "code",
   "execution_count": 67,
   "id": "93039f0e",
   "metadata": {},
   "outputs": [
    {
     "name": "stdout",
     "output_type": "stream",
     "text": [
      "Enter Your Name:Murtaza Naqvi\n",
      "Father's NameAli Naqvi\n",
      "EducationPython\n",
      "Your DesignationData Scientist\n",
      "Your Height3.11\n",
      "\n",
      "PIAIC Teacher Card\n",
      " Name: Murtaza Naqvi\n",
      " Father's Name: Ali Naqvi\n",
      " Education: Python\n",
      " Designation: Data Scientist\n",
      " Height:3.11\n",
      "\n"
     ]
    }
   ],
   "source": [
    "name = input(\"Enter Your Name:\")\n",
    "father_name = input(\"Father's Name\")\n",
    "education = input(\"Education\")\n",
    "designation = input(\"Your Designation\")\n",
    "height = float(input(\"Your Height\"))  #\n",
    "\n",
    "data = f\"\"\"\n",
    "PIAIC Teacher Card\n",
    " Name: {name}\n",
    " Father's Name: {father_name}\n",
    " Education: {education}\n",
    " Designation: {designation}\n",
    " Height:{height}\n",
    "\"\"\"\n",
    "\n",
    "\n",
    "print(data)"
   ]
  },
  {
   "cell_type": "code",
   "execution_count": null,
   "id": "fce46b85",
   "metadata": {},
   "outputs": [],
   "source": []
  }
 ],
 "metadata": {
  "kernelspec": {
   "display_name": "Python 3 (ipykernel)",
   "language": "python",
   "name": "python3"
  },
  "language_info": {
   "codemirror_mode": {
    "name": "ipython",
    "version": 3
   },
   "file_extension": ".py",
   "mimetype": "text/x-python",
   "name": "python",
   "nbconvert_exporter": "python",
   "pygments_lexer": "ipython3",
   "version": "3.9.12"
  }
 },
 "nbformat": 4,
 "nbformat_minor": 5
}
